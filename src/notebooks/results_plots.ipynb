{
 "cells": [
  {
   "cell_type": "code",
   "execution_count": 104,
   "metadata": {},
   "outputs": [],
   "source": [
    "import pandas as pd\n",
    "import matplotlib.pyplot as plt\n",
    "import sns\n",
    "import numpy as np"
   ]
  },
  {
   "cell_type": "code",
   "execution_count": 105,
   "metadata": {},
   "outputs": [],
   "source": [
    "df_ml = pd.read_csv('../artifacts/results_ml_models.csv')\n",
    "df_cnn = pd.read_csv('../artifacts/results_cnn_models.csv')\n",
    "df_trans = pd.read_csv('../artifacts/results_Transformer_models.csv')"
   ]
  },
  {
   "cell_type": "markdown",
   "metadata": {},
   "source": [
    "# CNN Models"
   ]
  },
  {
   "cell_type": "code",
   "execution_count": 106,
   "metadata": {},
   "outputs": [
    {
     "data": {
      "text/html": [
       "<div>\n",
       "<style scoped>\n",
       "    .dataframe tbody tr th:only-of-type {\n",
       "        vertical-align: middle;\n",
       "    }\n",
       "\n",
       "    .dataframe tbody tr th {\n",
       "        vertical-align: top;\n",
       "    }\n",
       "\n",
       "    .dataframe thead th {\n",
       "        text-align: right;\n",
       "    }\n",
       "</style>\n",
       "<table border=\"1\" class=\"dataframe\">\n",
       "  <thead>\n",
       "    <tr style=\"text-align: right;\">\n",
       "      <th></th>\n",
       "      <th>model</th>\n",
       "      <th>acc_test</th>\n",
       "    </tr>\n",
       "  </thead>\n",
       "  <tbody>\n",
       "    <tr>\n",
       "      <th>0</th>\n",
       "      <td>HopefullNet</td>\n",
       "      <td>0.981183</td>\n",
       "    </tr>\n",
       "    <tr>\n",
       "      <th>1</th>\n",
       "      <td>ShallowConvNet</td>\n",
       "      <td>0.365085</td>\n",
       "    </tr>\n",
       "    <tr>\n",
       "      <th>2</th>\n",
       "      <td>EEGNet</td>\n",
       "      <td>0.356352</td>\n",
       "    </tr>\n",
       "    <tr>\n",
       "      <th>3</th>\n",
       "      <td>DeepConvNet</td>\n",
       "      <td>0.288557</td>\n",
       "    </tr>\n",
       "  </tbody>\n",
       "</table>\n",
       "</div>"
      ],
      "text/plain": [
       "            model  acc_test\n",
       "0     HopefullNet  0.981183\n",
       "1  ShallowConvNet  0.365085\n",
       "2          EEGNet  0.356352\n",
       "3     DeepConvNet  0.288557"
      ]
     },
     "execution_count": 106,
     "metadata": {},
     "output_type": "execute_result"
    }
   ],
   "source": [
    "df_cnn[['model','acc_test']]"
   ]
  },
  {
   "cell_type": "code",
   "execution_count": 107,
   "metadata": {},
   "outputs": [
    {
     "data": {
      "image/png": "[encoded data removed]",
      "text/plain": [
       "<Figure size 864x576 with 1 Axes>"
      ]
     },
     "metadata": {
      "needs_background": "light"
     },
     "output_type": "display_data"
    }
   ],
   "source": [
    "top_1 = df_cnn.iloc[:,5]\n",
    "top_3 = df_cnn.iloc[:,4]\n",
    "top_5 = df_cnn.iloc[:,3]\n",
    "xlabels = df_cnn.iloc[:,0]\n",
    "N = len(df_cnn.iloc[:,0])\n",
    "ind = np.arange(N)  # the x locations for the groups\n",
    "width = 0.2       # the width of the bars\n",
    "fig, ax = plt.subplots(figsize=(12,8))\n",
    "rects1 = ax.bar(ind, top_1, width, color='#4198d7')\n",
    "rects2 = ax.bar(ind + width, top_3, width, color='#f5c767')\n",
    "rects3 = ax.bar(ind + 2*width, top_5, width, color='#7a61ba')\n",
    "ax.set_xticks(ind + width)\n",
    "ax.set_xticklabels(xlabels,fontsize=10)\n",
    "ax.set_xlabel(\"models\", fontsize=12)\n",
    "ax.set_ylabel(\"ACC/%\", fontsize=12)\n",
    "ax.set_title('Accuracy for CNNs models')\n",
    "ax.legend((rects1[0], rects2[0],rects3[0]),('Acc Train', 'Acc Validation','Acc Test'),bbox_to_anchor=(1.13, 1.01))\n",
    "def labelvalue(rects):\n",
    "    for rect in rects:\n",
    "        height = rect.get_height()\n",
    "        ax.text(rect.get_x() + rect.get_width()/2., 1.01*height,\n",
    "        str(round(height*100,1))+'%' ,ha='center', va='bottom',fontsize=8)\n",
    "\n",
    "labelvalue(rects1)\n",
    "labelvalue(rects2)\n",
    "labelvalue(rects3)\n",
    "plt.savefig('../artifacts/barplot_cnn.png',dpi=200, format='png', bbox_inches='tight')\n",
    "plt.show()"
   ]
  },
  {
   "cell_type": "markdown",
   "metadata": {},
   "source": [
    "# Machine Learning Models"
   ]
  },
  {
   "cell_type": "code",
   "execution_count": 108,
   "metadata": {},
   "outputs": [
    {
     "data": {
      "text/html": [
       "<div>\n",
       "<style scoped>\n",
       "    .dataframe tbody tr th:only-of-type {\n",
       "        vertical-align: middle;\n",
       "    }\n",
       "\n",
       "    .dataframe tbody tr th {\n",
       "        vertical-align: top;\n",
       "    }\n",
       "\n",
       "    .dataframe thead th {\n",
       "        text-align: right;\n",
       "    }\n",
       "</style>\n",
       "<table border=\"1\" class=\"dataframe\">\n",
       "  <thead>\n",
       "    <tr style=\"text-align: right;\">\n",
       "      <th></th>\n",
       "      <th>cross_val_score</th>\n",
       "      <th>Accuracy</th>\n",
       "      <th>Precision</th>\n",
       "      <th>Recall</th>\n",
       "      <th>F1_score</th>\n",
       "      <th>auc</th>\n",
       "      <th>kappa</th>\n",
       "      <th>mathew_coef</th>\n",
       "      <th>dataset</th>\n",
       "      <th>subject</th>\n",
       "      <th>pipeline</th>\n",
       "      <th>model_name</th>\n",
       "      <th>label</th>\n",
       "    </tr>\n",
       "  </thead>\n",
       "  <tbody>\n",
       "    <tr>\n",
       "      <th>0</th>\n",
       "      <td>0.894</td>\n",
       "      <td>0.761997</td>\n",
       "      <td>0.819119</td>\n",
       "      <td>0.761997</td>\n",
       "      <td>0.762921</td>\n",
       "      <td>0.425421</td>\n",
       "      <td>0.684214</td>\n",
       "      <td>0.704129</td>\n",
       "      <td>Motor Imaginary</td>\n",
       "      <td>All subjects</td>\n",
       "      <td>PCA</td>\n",
       "      <td>KNN</td>\n",
       "      <td>PCA + KNN</td>\n",
       "    </tr>\n",
       "    <tr>\n",
       "      <th>1</th>\n",
       "      <td>0.625</td>\n",
       "      <td>0.521563</td>\n",
       "      <td>0.563878</td>\n",
       "      <td>0.521563</td>\n",
       "      <td>0.535215</td>\n",
       "      <td>0.546745</td>\n",
       "      <td>0.343241</td>\n",
       "      <td>0.347370</td>\n",
       "      <td>Motor Imaginary</td>\n",
       "      <td>All subjects</td>\n",
       "      <td>PCA</td>\n",
       "      <td>XGB</td>\n",
       "      <td>PCA + XGB</td>\n",
       "    </tr>\n",
       "    <tr>\n",
       "      <th>2</th>\n",
       "      <td>0.344</td>\n",
       "      <td>0.378185</td>\n",
       "      <td>0.455839</td>\n",
       "      <td>0.378185</td>\n",
       "      <td>0.401871</td>\n",
       "      <td>0.553300</td>\n",
       "      <td>0.171174</td>\n",
       "      <td>0.175899</td>\n",
       "      <td>Motor Imaginary</td>\n",
       "      <td>All subjects</td>\n",
       "      <td>PCA</td>\n",
       "      <td>SVM</td>\n",
       "      <td>PCA + SVM</td>\n",
       "    </tr>\n",
       "    <tr>\n",
       "      <th>3</th>\n",
       "      <td>0.335</td>\n",
       "      <td>0.387683</td>\n",
       "      <td>0.353577</td>\n",
       "      <td>0.387683</td>\n",
       "      <td>0.367147</td>\n",
       "      <td>0.521749</td>\n",
       "      <td>0.060176</td>\n",
       "      <td>0.060873</td>\n",
       "      <td>Motor Imaginary</td>\n",
       "      <td>All subjects</td>\n",
       "      <td>time domain features -&gt; wavelet</td>\n",
       "      <td>XGB</td>\n",
       "      <td>TmFq + Wvl + XGB</td>\n",
       "    </tr>\n",
       "    <tr>\n",
       "      <th>4</th>\n",
       "      <td>0.294</td>\n",
       "      <td>0.271450</td>\n",
       "      <td>0.337800</td>\n",
       "      <td>0.271450</td>\n",
       "      <td>0.292712</td>\n",
       "      <td>0.509438</td>\n",
       "      <td>0.031221</td>\n",
       "      <td>0.032137</td>\n",
       "      <td>Motor Imaginary</td>\n",
       "      <td>All subjects</td>\n",
       "      <td>time domain features -&gt; wavelet</td>\n",
       "      <td>KNN</td>\n",
       "      <td>TmFq + Wvl + KNN</td>\n",
       "    </tr>\n",
       "    <tr>\n",
       "      <th>5</th>\n",
       "      <td>0.270</td>\n",
       "      <td>0.243630</td>\n",
       "      <td>0.314166</td>\n",
       "      <td>0.243630</td>\n",
       "      <td>0.265563</td>\n",
       "      <td>0.505273</td>\n",
       "      <td>-0.000095</td>\n",
       "      <td>-0.000099</td>\n",
       "      <td>Motor Imaginary</td>\n",
       "      <td>All subjects</td>\n",
       "      <td>time domain features -&gt; wavelet</td>\n",
       "      <td>SVM</td>\n",
       "      <td>TmFq + Wvl + SVM</td>\n",
       "    </tr>\n",
       "  </tbody>\n",
       "</table>\n",
       "</div>"
      ],
      "text/plain": [
       "   cross_val_score  Accuracy  Precision    Recall  F1_score       auc  \\\n",
       "0            0.894  0.761997   0.819119  0.761997  0.762921  0.425421   \n",
       "1            0.625  0.521563   0.563878  0.521563  0.535215  0.546745   \n",
       "2            0.344  0.378185   0.455839  0.378185  0.401871  0.553300   \n",
       "3            0.335  0.387683   0.353577  0.387683  0.367147  0.521749   \n",
       "4            0.294  0.271450   0.337800  0.271450  0.292712  0.509438   \n",
       "5            0.270  0.243630   0.314166  0.243630  0.265563  0.505273   \n",
       "\n",
       "      kappa  mathew_coef          dataset       subject  \\\n",
       "0  0.684214     0.704129  Motor Imaginary  All subjects   \n",
       "1  0.343241     0.347370  Motor Imaginary  All subjects   \n",
       "2  0.171174     0.175899  Motor Imaginary  All subjects   \n",
       "3  0.060176     0.060873  Motor Imaginary  All subjects   \n",
       "4  0.031221     0.032137  Motor Imaginary  All subjects   \n",
       "5 -0.000095    -0.000099  Motor Imaginary  All subjects   \n",
       "\n",
       "                          pipeline model_name             label  \n",
       "0                              PCA        KNN         PCA + KNN  \n",
       "1                              PCA        XGB         PCA + XGB  \n",
       "2                              PCA        SVM         PCA + SVM  \n",
       "3  time domain features -> wavelet        XGB  TmFq + Wvl + XGB  \n",
       "4  time domain features -> wavelet        KNN  TmFq + Wvl + KNN  \n",
       "5  time domain features -> wavelet        SVM  TmFq + Wvl + SVM  "
      ]
     },
     "execution_count": 108,
     "metadata": {},
     "output_type": "execute_result"
    }
   ],
   "source": [
    "\n",
    "df_ml['label'] = df_ml.pipeline.replace(\"time domain features -> wavelet\", \"TmFq + Wvl\") +' + '+ df_ml.model_name\n",
    "df_ml\n"
   ]
  },
  {
   "cell_type": "code",
   "execution_count": 109,
   "metadata": {},
   "outputs": [
    {
     "data": {
      "image/png": "[encoded data removed]",
      "text/plain": [
       "<Figure size 864x576 with 1 Axes>"
      ]
     },
     "metadata": {
      "needs_background": "light"
     },
     "output_type": "display_data"
    }
   ],
   "source": [
    "top_1 = df_ml.iloc[:,1]\n",
    "top_3 = df_ml.iloc[:,4]\n",
    "top_5 = df_ml.iloc[:,0]\n",
    "xlabels = df_ml.iloc[:,-1]\n",
    "N = len(df_ml.iloc[:,0])\n",
    "ind = np.arange(N)  # the x locations for the groups\n",
    "width = 0.2       # the width of the bars\n",
    "fig, ax = plt.subplots(figsize=(12,8))\n",
    "rects1 = ax.bar(ind, top_1, width, color='#4198d7')\n",
    "rects2 = ax.bar(ind + width, top_3, width, color='#f5c767')\n",
    "rects3 = ax.bar(ind + 2*width, top_5, width, color='#7a61ba')\n",
    "ax.set_xticks(ind + width)\n",
    "ax.set_xticklabels(xlabels,fontsize=10)\n",
    "ax.set_xlabel(\"models\", fontsize=12)\n",
    "ax.set_ylabel(\"ACC/%\", fontsize=12)\n",
    "ax.set_title('Metrics for ML models')\n",
    "ax.legend((rects1[0], rects2[0],rects3[0]),('Acc Test', 'F1 Score Test','Acc Cross Validation'),bbox_to_anchor=(1.13, 1.01))\n",
    "def labelvalue(rects):\n",
    "    for rect in rects:\n",
    "        height = rect.get_height()\n",
    "        ax.text(rect.get_x() + rect.get_width()/2., 1.01*height,\n",
    "        str(round(height*100,1))+'%' ,ha='center', va='bottom',fontsize=7)\n",
    "\n",
    "labelvalue(rects1)\n",
    "labelvalue(rects2)\n",
    "labelvalue(rects3)\n",
    "plt.savefig('../artifacts/barplot_ml.png',dpi=200, format='png', bbox_inches='tight')\n",
    "plt.show()"
   ]
  },
  {
   "cell_type": "markdown",
   "metadata": {},
   "source": [
    "# Transformers Models"
   ]
  },
  {
   "cell_type": "code",
   "execution_count": 110,
   "metadata": {},
   "outputs": [
    {
     "data": {
      "text/html": [
       "<div>\n",
       "<style scoped>\n",
       "    .dataframe tbody tr th:only-of-type {\n",
       "        vertical-align: middle;\n",
       "    }\n",
       "\n",
       "    .dataframe tbody tr th {\n",
       "        vertical-align: top;\n",
       "    }\n",
       "\n",
       "    .dataframe thead th {\n",
       "        text-align: right;\n",
       "    }\n",
       "</style>\n",
       "<table border=\"1\" class=\"dataframe\">\n",
       "  <thead>\n",
       "    <tr style=\"text-align: right;\">\n",
       "      <th></th>\n",
       "      <th>model</th>\n",
       "      <th>dataset</th>\n",
       "      <th>subject</th>\n",
       "      <th>acc_train</th>\n",
       "      <th>acc_val</th>\n",
       "      <th>acc_test</th>\n",
       "    </tr>\n",
       "  </thead>\n",
       "  <tbody>\n",
       "    <tr>\n",
       "      <th>0</th>\n",
       "      <td>Transformer Positional</td>\n",
       "      <td>Motor Imaginary</td>\n",
       "      <td>All</td>\n",
       "      <td>0.747110</td>\n",
       "      <td>0.702170</td>\n",
       "      <td>0.695777</td>\n",
       "    </tr>\n",
       "    <tr>\n",
       "      <th>1</th>\n",
       "      <td>Transformer</td>\n",
       "      <td>Motor Imaginary</td>\n",
       "      <td>All</td>\n",
       "      <td>0.782506</td>\n",
       "      <td>0.659584</td>\n",
       "      <td>0.684703</td>\n",
       "    </tr>\n",
       "  </tbody>\n",
       "</table>\n",
       "</div>"
      ],
      "text/plain": [
       "                    model          dataset subject  acc_train   acc_val  \\\n",
       "0  Transformer Positional  Motor Imaginary     All   0.747110  0.702170   \n",
       "1             Transformer  Motor Imaginary     All   0.782506  0.659584   \n",
       "\n",
       "   acc_test  \n",
       "0  0.695777  \n",
       "1  0.684703  "
      ]
     },
     "execution_count": 110,
     "metadata": {},
     "output_type": "execute_result"
    }
   ],
   "source": [
    "df_trans"
   ]
  },
  {
   "cell_type": "code",
   "execution_count": 111,
   "metadata": {},
   "outputs": [
    {
     "data": {
      "image/png": "[encoded data removed]",
      "text/plain": [
       "<Figure size 864x576 with 1 Axes>"
      ]
     },
     "metadata": {
      "needs_background": "light"
     },
     "output_type": "display_data"
    }
   ],
   "source": [
    "top_1 = df_trans.iloc[:,5]\n",
    "top_3 = df_trans.iloc[:,4]\n",
    "top_5 = df_trans.iloc[:,3]\n",
    "xlabels = df_trans.iloc[:,0]\n",
    "N = len(df_trans.iloc[:,0])\n",
    "ind = np.arange(N)  # the x locations for the groups\n",
    "width = 0.2       # the width of the bars\n",
    "fig, ax = plt.subplots(figsize=(12,8))\n",
    "rects1 = ax.bar(ind, top_1, width, color='#4198d7')\n",
    "rects2 = ax.bar(ind + width, top_3, width, color='#f5c767')\n",
    "rects3 = ax.bar(ind + 2*width, top_5, width, color='#7a61ba')\n",
    "ax.set_xticks(ind + width)\n",
    "ax.set_xticklabels(xlabels,fontsize=10)\n",
    "ax.set_xlabel(\"models\", fontsize=12)\n",
    "ax.set_ylabel(\"ACC/%\", fontsize=12)\n",
    "ax.set_title('Metrics for ML models')\n",
    "ax.legend((rects1[0], rects2[0],rects3[0]),('Acc Test', 'F1 Score Test','Acc Cross Validation'),bbox_to_anchor=(1.13, 1.01))\n",
    "def labelvalue(rects):\n",
    "    for rect in rects:\n",
    "        height = rect.get_height()\n",
    "        ax.text(rect.get_x() + rect.get_width()/2., 1.01*height,\n",
    "        str(round(height*100,1))+'%' ,ha='center', va='bottom',fontsize=7)\n",
    "\n",
    "labelvalue(rects1)\n",
    "labelvalue(rects2)\n",
    "labelvalue(rects3)\n",
    "plt.savefig('../artifacts/barplot_trans.png',dpi=200, format='png', bbox_inches='tight')\n",
    "plt.show()"
   ]
  },
  {
   "cell_type": "markdown",
   "metadata": {},
   "source": [
    "# Comparing Models"
   ]
  },
  {
   "cell_type": "code",
   "execution_count": 117,
   "metadata": {},
   "outputs": [
    {
     "data": {
      "text/html": [
       "<div>\n",
       "<style scoped>\n",
       "    .dataframe tbody tr th:only-of-type {\n",
       "        vertical-align: middle;\n",
       "    }\n",
       "\n",
       "    .dataframe tbody tr th {\n",
       "        vertical-align: top;\n",
       "    }\n",
       "\n",
       "    .dataframe thead th {\n",
       "        text-align: right;\n",
       "    }\n",
       "</style>\n",
       "<table border=\"1\" class=\"dataframe\">\n",
       "  <thead>\n",
       "    <tr style=\"text-align: right;\">\n",
       "      <th></th>\n",
       "      <th>Model</th>\n",
       "      <th>Accuracy</th>\n",
       "    </tr>\n",
       "  </thead>\n",
       "  <tbody>\n",
       "    <tr>\n",
       "      <th>2</th>\n",
       "      <td>HopefullNet</td>\n",
       "      <td>0.981183</td>\n",
       "    </tr>\n",
       "    <tr>\n",
       "      <th>6</th>\n",
       "      <td>PCA + KNN</td>\n",
       "      <td>0.761997</td>\n",
       "    </tr>\n",
       "    <tr>\n",
       "      <th>0</th>\n",
       "      <td>Transformer Positional</td>\n",
       "      <td>0.695777</td>\n",
       "    </tr>\n",
       "    <tr>\n",
       "      <th>1</th>\n",
       "      <td>Transformer</td>\n",
       "      <td>0.684703</td>\n",
       "    </tr>\n",
       "    <tr>\n",
       "      <th>7</th>\n",
       "      <td>PCA + XGB</td>\n",
       "      <td>0.521563</td>\n",
       "    </tr>\n",
       "    <tr>\n",
       "      <th>9</th>\n",
       "      <td>TmFq + Wvl + XGB</td>\n",
       "      <td>0.387683</td>\n",
       "    </tr>\n",
       "    <tr>\n",
       "      <th>8</th>\n",
       "      <td>PCA + SVM</td>\n",
       "      <td>0.378185</td>\n",
       "    </tr>\n",
       "    <tr>\n",
       "      <th>3</th>\n",
       "      <td>ShallowConvNet</td>\n",
       "      <td>0.365085</td>\n",
       "    </tr>\n",
       "    <tr>\n",
       "      <th>4</th>\n",
       "      <td>EEGNet</td>\n",
       "      <td>0.356352</td>\n",
       "    </tr>\n",
       "    <tr>\n",
       "      <th>5</th>\n",
       "      <td>DeepConvNet</td>\n",
       "      <td>0.288557</td>\n",
       "    </tr>\n",
       "    <tr>\n",
       "      <th>10</th>\n",
       "      <td>TmFq + Wvl + KNN</td>\n",
       "      <td>0.271450</td>\n",
       "    </tr>\n",
       "    <tr>\n",
       "      <th>11</th>\n",
       "      <td>TmFq + Wvl + SVM</td>\n",
       "      <td>0.243630</td>\n",
       "    </tr>\n",
       "  </tbody>\n",
       "</table>\n",
       "</div>"
      ],
      "text/plain": [
       "                     Model  Accuracy\n",
       "2              HopefullNet  0.981183\n",
       "6                PCA + KNN  0.761997\n",
       "0   Transformer Positional  0.695777\n",
       "1              Transformer  0.684703\n",
       "7                PCA + XGB  0.521563\n",
       "9         TmFq + Wvl + XGB  0.387683\n",
       "8                PCA + SVM  0.378185\n",
       "3           ShallowConvNet  0.365085\n",
       "4                   EEGNet  0.356352\n",
       "5              DeepConvNet  0.288557\n",
       "10        TmFq + Wvl + KNN  0.271450\n",
       "11        TmFq + Wvl + SVM  0.243630"
      ]
     },
     "execution_count": 117,
     "metadata": {},
     "output_type": "execute_result"
    }
   ],
   "source": [
    "all_models = pd.concat([\n",
    "                    df_trans[['model','acc_test']].rename(columns = {'model':'Model', 'acc_test':'Accuracy'}), \n",
    "                    df_cnn[['model','acc_test']].rename(columns = {'model':'Model', 'acc_test':'Accuracy'}), \n",
    "                    df_ml[['label','Accuracy']].rename(columns = {'label':'Model'})], axis=0, ignore_index=True)\n",
    "all_models = all_models.sort_values(['Accuracy'], ascending=False)\n",
    "all_models.to_csv('../artifacts/results_all_models.csv', index=False, header=True)                    \n",
    "all_models                    "
   ]
  },
  {
   "cell_type": "code",
   "execution_count": 113,
   "metadata": {},
   "outputs": [
    {
     "data": {
      "image/png": "[encoded data removed]",
      "text/plain": [
       "<Figure size 864x576 with 1 Axes>"
      ]
     },
     "metadata": {
      "needs_background": "light"
     },
     "output_type": "display_data"
    }
   ],
   "source": [
    "top_1 = all_models.iloc[:,1]\n",
    "xlabels = all_models.iloc[:,0]\n",
    "N = len(all_models.iloc[:,0])\n",
    "ind = np.arange(N)  # the x locations for the groups\n",
    "width = 0.7      # the width of the bars\n",
    "fig, ax = plt.subplots(figsize=(12,8))\n",
    "rects1 = ax.bar(ind, top_1, width, color='#4198d7')\n",
    "ax.set_xticks(ind )\n",
    "ax.set_xticklabels(xlabels,fontsize=10, rotation=70)\n",
    "ax.set_xlabel(\"models\", fontsize=12)\n",
    "ax.set_ylabel(\"ACC/%\", fontsize=12)\n",
    "ax.set_title('Metrics for ML models')\n",
    "# ax.legend(rects1[0],'Accuracy Test')\n",
    "def labelvalue(rects):\n",
    "    for rect in rects:\n",
    "        height = rect.get_height()\n",
    "        ax.text(rect.get_x() + rect.get_width()/2., 1.01*height,\n",
    "        str(round(height*100,1))+'%' ,ha='center', va='bottom',fontsize=12)\n",
    "\n",
    "labelvalue(rects1)\n",
    "\n",
    "plt.savefig('../artifacts/barplot_all.png',dpi=200, format='png', bbox_inches='tight')\n",
    "plt.show()"
   ]
  }
 ],
 "metadata": {
  "interpreter": {
   "hash": "2cbf7e0147303fc3f0f8ad236e712b35630663a8f54fe7c15006cb08065671df"
  },
  "kernelspec": {
   "display_name": "Python 3.9.12 ('env_tcc_eeg': venv)",
   "language": "python",
   "name": "python3"
  },
  "language_info": {
   "codemirror_mode": {
    "name": "ipython",
    "version": 3
   },
   "file_extension": ".py",
   "mimetype": "text/x-python",
   "name": "python",
   "nbconvert_exporter": "python",
   "pygments_lexer": "ipython3",
   "version": "3.9.12"
  },
  "orig_nbformat": 4
 },
 "nbformat": 4,
 "nbformat_minor": 2
}
