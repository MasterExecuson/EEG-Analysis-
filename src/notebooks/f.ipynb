{
 "cells": [
  {
   "cell_type": "code",
   "execution_count": 1,
   "metadata": {},
   "outputs": [
    {
     "name": "stdout",
     "output_type": "stream",
     "text": [
      "Importing the dtw module. When using in academic works please cite:\n",
      "  T. Giorgino. Computing and Visualizing Dynamic Time Warping Alignments in R: The dtw Package.\n",
      "  J. Stat. Soft., doi:10.18637/jss.v031.i07.\n",
      "\n"
     ]
    }
   ],
   "source": [
    "import sys\n",
    "sys.path.append('..')\n",
    "import numpy as np\n",
    "from sklearn.decomposition import PCA\n",
    "from utils.feature_extraction import time_domain_features, standard_scaler_transform, wavelet_transform, bandpass_transform, psd_transform"
   ]
  },
  {
   "cell_type": "code",
   "execution_count": 24,
   "metadata": {},
   "outputs": [
    {
     "name": "stdout",
     "output_type": "stream",
     "text": [
      "[array([[[ 0.55173977],\n",
      "        [ 0.16135814],\n",
      "        [ 0.20046058]],\n",
      "\n",
      "       [[-0.28630606],\n",
      "        [ 0.48609734],\n",
      "        [-0.08580394]],\n",
      "\n",
      "       [[-0.23623388],\n",
      "        [-0.25256021],\n",
      "        [ 0.31010426]],\n",
      "\n",
      "       [[-0.38397083],\n",
      "        [-0.17675867],\n",
      "        [-0.12017962]],\n",
      "\n",
      "       [[ 0.35477099],\n",
      "        [-0.21813661],\n",
      "        [-0.30458128]]]), array([[[ 0.276925  ],\n",
      "        [ 0.34940393],\n",
      "        [ 0.15672925]],\n",
      "\n",
      "       [[ 0.49817003],\n",
      "        [-0.29478868],\n",
      "        [-0.07915329]],\n",
      "\n",
      "       [[-0.30159414],\n",
      "        [-0.18861161],\n",
      "        [ 0.275634  ]],\n",
      "\n",
      "       [[-0.38767516],\n",
      "        [-0.01561171],\n",
      "        [-0.16181791]],\n",
      "\n",
      "       [[-0.08582574],\n",
      "        [ 0.14960807],\n",
      "        [-0.19139205]]])]\n"
     ]
    }
   ],
   "source": [
    "np.random.seed(20)\n",
    "\n",
    "records = 5\n",
    "n_components=3\n",
    "features_B_train = np.random.rand(records,5,2)\n",
    "pca = PCA(n_components=n_components)\n",
    "\n",
    "\n",
    "result = [pca.fit_transform(features_B_train[:,:,channel]).reshape(records,n_components,1) for channel in range(features_B_train.shape[-1])] \n",
    "\n",
    "\n",
    "print(result)"
   ]
  },
  {
   "cell_type": "code",
   "execution_count": 13,
   "metadata": {},
   "outputs": [
    {
     "name": "stdout",
     "output_type": "stream",
     "text": [
      "[array([[ 5.69909597e-01,  2.11977690e-16],\n",
      "       [-5.69909597e-01,  2.11977690e-16]]), array([[ 6.16427309e-01,  9.74074650e-17],\n",
      "       [-6.16427309e-01,  9.74074650e-17]])]\n"
     ]
    }
   ],
   "source": [
    "\n",
    "pca = PCA(n_components=n_components)\n",
    "\n",
    "\n",
    "result2 = [pca.fit_transform(features_B_train[:,:,channel]) for channel in range(features_B_train.shape[-1])] \n",
    "\n",
    "\n",
    "print(result2)\n",
    "print(result2)"
   ]
  },
  {
   "cell_type": "code",
   "execution_count": 18,
   "metadata": {},
   "outputs": [
    {
     "name": "stdout",
     "output_type": "stream",
     "text": [
      "[[[ 5.69909597e-01  6.16427309e-01]\n",
      "  [ 2.11977690e-16  9.74074650e-17]]\n",
      "\n",
      " [[-5.69909597e-01 -6.16427309e-01]\n",
      "  [ 2.11977690e-16  9.74074650e-17]]]\n",
      "(2, 2, 2)\n"
     ]
    }
   ],
   "source": [
    "e = np.concatenate(result,axis=-1)\n",
    "print(e)\n",
    "print(e.shape)"
   ]
  },
  {
   "cell_type": "code",
   "execution_count": 3,
   "metadata": {},
   "outputs": [],
   "source": [
    "np.random.seed(20)\n",
    "params = dict(\n",
    "    fs=160,\n",
    "    dataset='Motor Imaginary',\n",
    "    subject='a',\n",
    "    pipeline='time domain features -> wavelet',\n",
    "    axis=-2\n",
    ")\n",
    "records = 5\n",
    "n_components=3\n",
    "features_B_train = np.random.rand(5,640,2)\n",
    "\n",
    "\n",
    "features_a_test = wavelet_transform(features_B_train, params)\n",
    "\n",
    "features_a_test = time_domain_features(features_a_test, params['fs'], ax=-2)"
   ]
  },
  {
   "cell_type": "code",
   "execution_count": 8,
   "metadata": {},
   "outputs": [
    {
     "data": {
      "text/plain": [
       "(5, 16)"
      ]
     },
     "execution_count": 8,
     "metadata": {},
     "output_type": "execute_result"
    }
   ],
   "source": [
    "features_a_test.shape"
   ]
  }
 ],
 "metadata": {
  "kernelspec": {
   "display_name": "Python 3.9.12 ('env_tcc_eeg': venv)",
   "language": "python",
   "name": "python3"
  },
  "language_info": {
   "codemirror_mode": {
    "name": "ipython",
    "version": 3
   },
   "file_extension": ".py",
   "mimetype": "text/x-python",
   "name": "python",
   "nbconvert_exporter": "python",
   "pygments_lexer": "ipython3",
   "version": "3.9.12"
  },
  "orig_nbformat": 4,
  "vscode": {
   "interpreter": {
    "hash": "2cbf7e0147303fc3f0f8ad236e712b35630663a8f54fe7c15006cb08065671df"
   }
  }
 },
 "nbformat": 4,
 "nbformat_minor": 2
}
