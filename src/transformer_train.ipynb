{
 "cells": [
  {
   "cell_type": "code",
   "execution_count": 1,
   "metadata": {},
   "outputs": [],
   "source": [
    "import numpy as np\n",
    "from sklearn.model_selection import train_test_split\n",
    "from utils.plots import plot_acc_loss_keras\n",
    "from utils.dataloader import load_eeg_data_edf, load_eeg_data_gdf, load_eeg_data_mat\n",
    "from utils.dataloader import load_eeg_data_mat\n",
    "from models.transformers import Transformer\n",
    "import keras\n",
    "from tensorflow.keras import utils as np_utils\n",
    "import tensorflow as tf"
   ]
  },
  {
   "cell_type": "code",
   "execution_count": 2,
   "metadata": {},
   "outputs": [],
   "source": [
    "physical_devices = tf.config.list_physical_devices(\"GPU\")\n",
    "tf.config.experimental.set_memory_growth(physical_devices[0], True)"
   ]
  },
  {
   "cell_type": "code",
   "execution_count": 2,
   "metadata": {},
   "outputs": [],
   "source": [
    "x_data = np.random.rand(200,64,1000)\n",
    "y_data = np.random.randint(0,4,200)\n",
    "\n"
   ]
  },
  {
   "cell_type": "code",
   "execution_count": 3,
   "metadata": {},
   "outputs": [],
   "source": [
    "_, chans, sample = x_data.shape\n",
    "\n",
    "\n",
    "X_train, X_aux, Y_train, y_aux = train_test_split( x_data, y_data, test_size=0.5, random_state=42)\n",
    "X_validate, X_test, Y_validate, Y_test = train_test_split( X_aux, y_aux, test_size=0.5, random_state=42)\n",
    "\n",
    "Y_train      = np_utils.to_categorical(Y_train)\n",
    "Y_validate   = np_utils.to_categorical(Y_validate)\n",
    "Y_test       = np_utils.to_categorical(Y_test)\n",
    "\n",
    "X_train      = X_train.reshape(-1, chans, sample)\n",
    "X_validate   = X_validate.reshape(-1, chans, sample)\n",
    "X_test       = X_test.reshape(-1, chans, sample)"
   ]
  },
  {
   "cell_type": "code",
   "execution_count": null,
   "metadata": {},
   "outputs": [],
   "source": []
  },
  {
   "cell_type": "code",
   "execution_count": 5,
   "metadata": {},
   "outputs": [],
   "source": [
    "input_shape = X_train.shape[1:]\n",
    "n_classes = len(np.unique(Y_train))\n",
    "\n",
    "model = Transformer(input_shape,\n",
    "    head_size=256,\n",
    "    num_heads=4,\n",
    "    ff_dim=4,\n",
    "    num_transformer_blocks=4,\n",
    "    mlp_units=[128],\n",
    "    mlp_dropout=0.4,\n",
    "    dropout=0.25,\n",
    "    n_classes=n_classes\n",
    ")\n",
    "\n",
    "model.compile(\n",
    "    loss=\"sparse_categorical_crossentropy\",\n",
    "    optimizer=keras.optimizers.Adam(learning_rate=1e-4),\n",
    "    metrics=[\"sparse_categorical_accuracy\"],\n",
    ")\n",
    "# model.summary()"
   ]
  },
  {
   "cell_type": "code",
   "execution_count": 6,
   "metadata": {},
   "outputs": [
    {
     "name": "stdout",
     "output_type": "stream",
     "text": [
      "Epoch 1/200\n"
     ]
    },
    {
     "ename": "ValueError",
     "evalue": "in user code:\n\n    File \"c:\\Users\\Maods\\Documents\\Repos\\EEG-Analysis-\\env_tcc_eeg\\lib\\site-packages\\keras\\engine\\training.py\", line 1051, in train_function  *\n        return step_function(self, iterator)\n    File \"c:\\Users\\Maods\\Documents\\Repos\\EEG-Analysis-\\env_tcc_eeg\\lib\\site-packages\\keras\\engine\\training.py\", line 1040, in step_function  **\n        outputs = model.distribute_strategy.run(run_step, args=(data,))\n    File \"c:\\Users\\Maods\\Documents\\Repos\\EEG-Analysis-\\env_tcc_eeg\\lib\\site-packages\\keras\\engine\\training.py\", line 1030, in run_step  **\n        outputs = model.train_step(data)\n    File \"c:\\Users\\Maods\\Documents\\Repos\\EEG-Analysis-\\env_tcc_eeg\\lib\\site-packages\\keras\\engine\\training.py\", line 894, in train_step\n        return self.compute_metrics(x, y, y_pred, sample_weight)\n    File \"c:\\Users\\Maods\\Documents\\Repos\\EEG-Analysis-\\env_tcc_eeg\\lib\\site-packages\\keras\\engine\\training.py\", line 987, in compute_metrics\n        self.compiled_metrics.update_state(y, y_pred, sample_weight)\n    File \"c:\\Users\\Maods\\Documents\\Repos\\EEG-Analysis-\\env_tcc_eeg\\lib\\site-packages\\keras\\engine\\compile_utils.py\", line 501, in update_state\n        metric_obj.update_state(y_t, y_p, sample_weight=mask)\n    File \"c:\\Users\\Maods\\Documents\\Repos\\EEG-Analysis-\\env_tcc_eeg\\lib\\site-packages\\keras\\utils\\metrics_utils.py\", line 70, in decorated\n        update_op = update_state_fn(*args, **kwargs)\n    File \"c:\\Users\\Maods\\Documents\\Repos\\EEG-Analysis-\\env_tcc_eeg\\lib\\site-packages\\keras\\metrics\\base_metric.py\", line 140, in update_state_fn\n        return ag_update_state(*args, **kwargs)\n    File \"c:\\Users\\Maods\\Documents\\Repos\\EEG-Analysis-\\env_tcc_eeg\\lib\\site-packages\\keras\\metrics\\base_metric.py\", line 646, in update_state  **\n        matches = ag_fn(y_true, y_pred, **self._fn_kwargs)\n    File \"c:\\Users\\Maods\\Documents\\Repos\\EEG-Analysis-\\env_tcc_eeg\\lib\\site-packages\\keras\\metrics\\metrics.py\", line 3327, in sparse_categorical_accuracy\n        matches = metrics_utils.sparse_categorical_matches(y_true, y_pred)\n    File \"c:\\Users\\Maods\\Documents\\Repos\\EEG-Analysis-\\env_tcc_eeg\\lib\\site-packages\\keras\\utils\\metrics_utils.py\", line 885, in sparse_categorical_matches\n        y_true = tf.squeeze(y_true, [-1])\n\n    ValueError: Can not squeeze dim[1], expected a dimension of 1, got 4 for '{{node Squeeze}} = Squeeze[T=DT_FLOAT, squeeze_dims=[-1]](IteratorGetNext:1)' with input shapes: [?,4].\n",
     "output_type": "error",
     "traceback": [
      "\u001b[1;31m---------------------------------------------------------------------------\u001b[0m",
      "\u001b[1;31mValueError\u001b[0m                                Traceback (most recent call last)",
      "\u001b[1;32mc:\\Users\\Maods\\Documents\\Repos\\EEG-Analysis-\\src\\transformer_train.ipynb Cell 6'\u001b[0m in \u001b[0;36m<cell line: 3>\u001b[1;34m()\u001b[0m\n\u001b[0;32m      <a href='vscode-notebook-cell:/c%3A/Users/Maods/Documents/Repos/EEG-Analysis-/src/transformer_train.ipynb#ch0000003?line=0'>1</a>\u001b[0m callbacks \u001b[39m=\u001b[39m [keras\u001b[39m.\u001b[39mcallbacks\u001b[39m.\u001b[39mEarlyStopping(patience\u001b[39m=\u001b[39m\u001b[39m10\u001b[39m, restore_best_weights\u001b[39m=\u001b[39m\u001b[39mTrue\u001b[39;00m)]\n\u001b[1;32m----> <a href='vscode-notebook-cell:/c%3A/Users/Maods/Documents/Repos/EEG-Analysis-/src/transformer_train.ipynb#ch0000003?line=2'>3</a>\u001b[0m model\u001b[39m.\u001b[39;49mfit(\n\u001b[0;32m      <a href='vscode-notebook-cell:/c%3A/Users/Maods/Documents/Repos/EEG-Analysis-/src/transformer_train.ipynb#ch0000003?line=3'>4</a>\u001b[0m     X_train,\n\u001b[0;32m      <a href='vscode-notebook-cell:/c%3A/Users/Maods/Documents/Repos/EEG-Analysis-/src/transformer_train.ipynb#ch0000003?line=4'>5</a>\u001b[0m     Y_train,\n\u001b[0;32m      <a href='vscode-notebook-cell:/c%3A/Users/Maods/Documents/Repos/EEG-Analysis-/src/transformer_train.ipynb#ch0000003?line=5'>6</a>\u001b[0m     validation_split\u001b[39m=\u001b[39;49m\u001b[39m0.2\u001b[39;49m,\n\u001b[0;32m      <a href='vscode-notebook-cell:/c%3A/Users/Maods/Documents/Repos/EEG-Analysis-/src/transformer_train.ipynb#ch0000003?line=6'>7</a>\u001b[0m     epochs\u001b[39m=\u001b[39;49m\u001b[39m200\u001b[39;49m,\n\u001b[0;32m      <a href='vscode-notebook-cell:/c%3A/Users/Maods/Documents/Repos/EEG-Analysis-/src/transformer_train.ipynb#ch0000003?line=7'>8</a>\u001b[0m     batch_size\u001b[39m=\u001b[39;49m\u001b[39m64\u001b[39;49m,\n\u001b[0;32m      <a href='vscode-notebook-cell:/c%3A/Users/Maods/Documents/Repos/EEG-Analysis-/src/transformer_train.ipynb#ch0000003?line=8'>9</a>\u001b[0m     callbacks\u001b[39m=\u001b[39;49mcallbacks,\n\u001b[0;32m     <a href='vscode-notebook-cell:/c%3A/Users/Maods/Documents/Repos/EEG-Analysis-/src/transformer_train.ipynb#ch0000003?line=9'>10</a>\u001b[0m )\n\u001b[0;32m     <a href='vscode-notebook-cell:/c%3A/Users/Maods/Documents/Repos/EEG-Analysis-/src/transformer_train.ipynb#ch0000003?line=11'>12</a>\u001b[0m model\u001b[39m.\u001b[39mevaluate(X_test, Y_test, verbose\u001b[39m=\u001b[39m\u001b[39m1\u001b[39m)\n",
      "File \u001b[1;32mc:\\Users\\Maods\\Documents\\Repos\\EEG-Analysis-\\env_tcc_eeg\\lib\\site-packages\\keras\\utils\\traceback_utils.py:67\u001b[0m, in \u001b[0;36mfilter_traceback.<locals>.error_handler\u001b[1;34m(*args, **kwargs)\u001b[0m\n\u001b[0;32m     65\u001b[0m \u001b[39mexcept\u001b[39;00m \u001b[39mException\u001b[39;00m \u001b[39mas\u001b[39;00m e:  \u001b[39m# pylint: disable=broad-except\u001b[39;00m\n\u001b[0;32m     66\u001b[0m   filtered_tb \u001b[39m=\u001b[39m _process_traceback_frames(e\u001b[39m.\u001b[39m__traceback__)\n\u001b[1;32m---> 67\u001b[0m   \u001b[39mraise\u001b[39;00m e\u001b[39m.\u001b[39mwith_traceback(filtered_tb) \u001b[39mfrom\u001b[39;00m \u001b[39mNone\u001b[39m\n\u001b[0;32m     68\u001b[0m \u001b[39mfinally\u001b[39;00m:\n\u001b[0;32m     69\u001b[0m   \u001b[39mdel\u001b[39;00m filtered_tb\n",
      "File \u001b[1;32m~\\AppData\\Local\\Temp\\__autograph_generated_file18vqbp5l.py:15\u001b[0m, in \u001b[0;36mouter_factory.<locals>.inner_factory.<locals>.tf__train_function\u001b[1;34m(iterator)\u001b[0m\n\u001b[0;32m     13\u001b[0m \u001b[39mtry\u001b[39;00m:\n\u001b[0;32m     14\u001b[0m     do_return \u001b[39m=\u001b[39m \u001b[39mTrue\u001b[39;00m\n\u001b[1;32m---> 15\u001b[0m     retval_ \u001b[39m=\u001b[39m ag__\u001b[39m.\u001b[39mconverted_call(ag__\u001b[39m.\u001b[39mld(step_function), (ag__\u001b[39m.\u001b[39mld(\u001b[39mself\u001b[39m), ag__\u001b[39m.\u001b[39mld(iterator)), \u001b[39mNone\u001b[39;00m, fscope)\n\u001b[0;32m     16\u001b[0m \u001b[39mexcept\u001b[39;00m:\n\u001b[0;32m     17\u001b[0m     do_return \u001b[39m=\u001b[39m \u001b[39mFalse\u001b[39;00m\n",
      "\u001b[1;31mValueError\u001b[0m: in user code:\n\n    File \"c:\\Users\\Maods\\Documents\\Repos\\EEG-Analysis-\\env_tcc_eeg\\lib\\site-packages\\keras\\engine\\training.py\", line 1051, in train_function  *\n        return step_function(self, iterator)\n    File \"c:\\Users\\Maods\\Documents\\Repos\\EEG-Analysis-\\env_tcc_eeg\\lib\\site-packages\\keras\\engine\\training.py\", line 1040, in step_function  **\n        outputs = model.distribute_strategy.run(run_step, args=(data,))\n    File \"c:\\Users\\Maods\\Documents\\Repos\\EEG-Analysis-\\env_tcc_eeg\\lib\\site-packages\\keras\\engine\\training.py\", line 1030, in run_step  **\n        outputs = model.train_step(data)\n    File \"c:\\Users\\Maods\\Documents\\Repos\\EEG-Analysis-\\env_tcc_eeg\\lib\\site-packages\\keras\\engine\\training.py\", line 894, in train_step\n        return self.compute_metrics(x, y, y_pred, sample_weight)\n    File \"c:\\Users\\Maods\\Documents\\Repos\\EEG-Analysis-\\env_tcc_eeg\\lib\\site-packages\\keras\\engine\\training.py\", line 987, in compute_metrics\n        self.compiled_metrics.update_state(y, y_pred, sample_weight)\n    File \"c:\\Users\\Maods\\Documents\\Repos\\EEG-Analysis-\\env_tcc_eeg\\lib\\site-packages\\keras\\engine\\compile_utils.py\", line 501, in update_state\n        metric_obj.update_state(y_t, y_p, sample_weight=mask)\n    File \"c:\\Users\\Maods\\Documents\\Repos\\EEG-Analysis-\\env_tcc_eeg\\lib\\site-packages\\keras\\utils\\metrics_utils.py\", line 70, in decorated\n        update_op = update_state_fn(*args, **kwargs)\n    File \"c:\\Users\\Maods\\Documents\\Repos\\EEG-Analysis-\\env_tcc_eeg\\lib\\site-packages\\keras\\metrics\\base_metric.py\", line 140, in update_state_fn\n        return ag_update_state(*args, **kwargs)\n    File \"c:\\Users\\Maods\\Documents\\Repos\\EEG-Analysis-\\env_tcc_eeg\\lib\\site-packages\\keras\\metrics\\base_metric.py\", line 646, in update_state  **\n        matches = ag_fn(y_true, y_pred, **self._fn_kwargs)\n    File \"c:\\Users\\Maods\\Documents\\Repos\\EEG-Analysis-\\env_tcc_eeg\\lib\\site-packages\\keras\\metrics\\metrics.py\", line 3327, in sparse_categorical_accuracy\n        matches = metrics_utils.sparse_categorical_matches(y_true, y_pred)\n    File \"c:\\Users\\Maods\\Documents\\Repos\\EEG-Analysis-\\env_tcc_eeg\\lib\\site-packages\\keras\\utils\\metrics_utils.py\", line 885, in sparse_categorical_matches\n        y_true = tf.squeeze(y_true, [-1])\n\n    ValueError: Can not squeeze dim[1], expected a dimension of 1, got 4 for '{{node Squeeze}} = Squeeze[T=DT_FLOAT, squeeze_dims=[-1]](IteratorGetNext:1)' with input shapes: [?,4].\n"
     ]
    }
   ],
   "source": [
    "callbacks = [keras.callbacks.EarlyStopping(patience=10, restore_best_weights=True)]\n",
    "\n",
    "model.fit(\n",
    "    X_train,\n",
    "    Y_train,\n",
    "    validation_split=0.2,\n",
    "    epochs=200,\n",
    "    batch_size=64,\n",
    "    callbacks=callbacks,\n",
    ")\n",
    "\n",
    "model.evaluate(X_test, Y_test, verbose=1)"
   ]
  }
 ],
 "metadata": {
  "kernelspec": {
   "display_name": "Python 3.9.12 ('env_tcc_eeg': venv)",
   "language": "python",
   "name": "python3"
  },
  "language_info": {
   "codemirror_mode": {
    "name": "ipython",
    "version": 3
   },
   "file_extension": ".py",
   "mimetype": "text/x-python",
   "name": "python",
   "nbconvert_exporter": "python",
   "pygments_lexer": "ipython3",
   "version": "3.9.12"
  },
  "orig_nbformat": 4,
  "vscode": {
   "interpreter": {
    "hash": "2cbf7e0147303fc3f0f8ad236e712b35630663a8f54fe7c15006cb08065671df"
   }
  }
 },
 "nbformat": 4,
 "nbformat_minor": 2
}
