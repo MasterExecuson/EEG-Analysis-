{
 "cells": [
  {
   "cell_type": "code",
   "execution_count": 1,
   "metadata": {},
   "outputs": [
    {
     "name": "stderr",
     "output_type": "stream",
     "text": [
      "Intel(R) Extension for Scikit-learn* enabled (https://github.com/intel/scikit-learn-intelex)\n"
     ]
    },
    {
     "name": "stdout",
     "output_type": "stream",
     "text": [
      "Importing the dtw module. When using in academic works please cite:\n",
      "  T. Giorgino. Computing and Visualizing Dynamic Time Warping Alignments in R: The dtw Package.\n",
      "  J. Stat. Soft., doi:10.18637/jss.v031.i07.\n",
      "\n",
      "classes count\n",
      "before oversampling = 110811\n",
      "classes count\n",
      "after oversampling = 444960\n"
     ]
    }
   ],
   "source": [
    "from sklearnex import patch_sklearn\n",
    "import sys\n",
    "import os\n",
    "# SCRIPT_DIR = os.path.dirname(os.path.abspath(__file__))\n",
    "# sys.path.append(os.path.dirname(SCRIPT_DIR))\n",
    "patch_sklearn()\n",
    "sys.path.append(\"..\")\n",
    "\n",
    "from sklearn.preprocessing import minmax_scale\n",
    "from sklearn.model_selection import train_test_split\n",
    "from sklearn.decomposition import PCA\n",
    "from sklearn.linear_model import LogisticRegression\n",
    "from sklearn.preprocessing import StandardScaler\n",
    "from matplotlib import pyplot as plt\n",
    "import numpy as np\n",
    "import pandas as pd\n",
    "from pathlib import Path\n",
    "from imblearn.over_sampling import SMOTE\n",
    "from models.mlmodels import KNN_model_predict, LDA_model_predict, SVM_model_predict, XGB_model_predict, KNNDWN_model_predict\n",
    "from utils.plots import get_metrics\n",
    "from utils.dataloader import load_eeg_data_edf, load_eeg_data_gdf, load_eeg_data_mat\n",
    "from utils.data_preprocessing_utils import Utils\n",
    "from utils.feature_extraction import time_domain_features, standard_scaler_transform, wavelet_transform, bandpass_transform, psd_transform\n",
    "\n",
    "\n",
    "\n",
    "def run_ml_models(dataset, params, metrics_results):\n",
    "\n",
    "    # ------------------------- KNN ---------------------------------------------------\n",
    "    y_true, y_pred, best_score = KNN_model_predict(dataset['X_train'],\n",
    "                                                   dataset['X_test'],\n",
    "                                                   dataset['Y_train'],\n",
    "                                                   dataset['Y_test'],\n",
    "                                                   scoring=None)\n",
    "    metrics_results.append(get_metrics(\n",
    "        y_true, y_pred, best_score, 'KNN', params))\n",
    "\n",
    "    # ------------------------- SVM ---------------------------------------------------\n",
    "    y_true, y_pred, best_score = SVM_model_predict(dataset['X_train'],\n",
    "                                                   dataset['X_test'],\n",
    "                                                   dataset['Y_train'],\n",
    "                                                   dataset['Y_test'],\n",
    "                                                   scoring=None)\n",
    "    metrics_results.append(get_metrics(\n",
    "        y_true, y_pred, best_score, 'SVM', params))\n",
    "\n",
    "    # ------------------------- XGB ---------------------------------------------------\n",
    "    y_true, y_pred, best_score = XGB_model_predict(dataset['X_train'],\n",
    "                                                   dataset['X_test'],\n",
    "                                                   dataset['Y_train'],\n",
    "                                                   dataset['Y_test'],\n",
    "                                                   scoring=None)\n",
    "    metrics_results.append(get_metrics(\n",
    "        y_true, y_pred, best_score, 'XGB', params))\n",
    "\n",
    "\n",
    "SOURCE_PATH = \"C:/Users/Maods/Documents/Code-Samples/Python/MI-EEG-Dataset/dataset/processed\"\n",
    "\n",
    "# Load data\n",
    "# [\"FC1\", \"FC2\"], [\"FC3\", \"FC4\"], [\"FC5\", \"FC6\"]]\n",
    "channels = Utils.combinations[\"e\"]\n",
    "\n",
    "exclude = [38, 88, 89, 92, 100, 104]\n",
    "subjects = [n for n in np.arange(1, 110) if n not in exclude]\n",
    "\n",
    "x, y = Utils.load(channels, subjects, base_path=SOURCE_PATH)\n",
    "y = Utils.to_categorical(y)\n",
    "\n",
    "\n",
    "# Reshape for scaling\n",
    "x_reshaped = x.reshape(x.shape[0], x.shape[1] * x.shape[2])\n",
    "# Grab a test set before SMOTE\n",
    "x_train, x_test, y_train, y_test = train_test_split(x_reshaped,\n",
    "                                                    y,\n",
    "                                                    stratify=y,\n",
    "                                                    test_size=0.20,\n",
    "                                                    random_state=42)\n",
    "\n",
    "# Scale indipendently train/test\n",
    "x_train_scaled = minmax_scale(x_train, axis=1)\n",
    "x_test_scaled = minmax_scale(x_test, axis=1)\n",
    "\n",
    "\n",
    "# apply smote to train data\n",
    "print('classes count')\n",
    "print(f'before oversampling = {y_train.sum(axis=0)}')\n",
    "\n",
    "# smote\n",
    "sm = SMOTE(random_state=42)\n",
    "x_train_smote, y_train = sm.fit_resample(x_train_scaled, y_train)\n",
    "print('classes count')\n",
    "print(f'after oversampling = {y_train.sum(axis=0)}')\n",
    "\n",
    "\n",
    "# Reshape for original format (x, 640, 2)\n",
    "x_train = x_train_smote.reshape(x_train_smote.shape[0], int( x_train_smote.shape[1]/2), 2).astype(np.float64)\n",
    "x_test = x_test_scaled.reshape(x_test_scaled.shape[0], int( x_test_scaled.shape[1]/2), 2).astype(np.float64)\n"
   ]
  },
  {
   "cell_type": "code",
   "execution_count": 2,
   "metadata": {},
   "outputs": [
    {
     "name": "stderr",
     "output_type": "stream",
     "text": [
      "c:\\Users\\Maods\\Documents\\Repos\\EEG-Analysis-\\env_tcc_eeg\\lib\\site-packages\\pywt\\_multilevel.py:43: UserWarning: Level value of 2 is too high: all coefficients will experience boundary effects.\n",
      "  warnings.warn(\n"
     ]
    }
   ],
   "source": [
    "metrics_results = []\n",
    "\n",
    "\n",
    "# ===> Feture Extraction A\n",
    "params = dict(\n",
    "    fs=160,\n",
    "    dataset='Motor Imaginary',\n",
    "    subject='All subjects',\n",
    "    pipeline='time domain features -> wavelet'\n",
    ")\n",
    "features_a_train = wavelet_transform(x_train, params)\n",
    "features_a_test = wavelet_transform(x_test, params)"
   ]
  },
  {
   "cell_type": "code",
   "execution_count": 3,
   "metadata": {},
   "outputs": [
    {
     "name": "stderr",
     "output_type": "stream",
     "text": [
      "c:\\Users\\Maods\\Documents\\Repos\\EEG-Analysis-\\env_tcc_eeg\\lib\\site-packages\\scipy\\signal\\_spectral_py.py:1961: UserWarning: nperseg = 256 is greater than input length  = 4, using nperseg = 4\n",
      "  warnings.warn('nperseg = {0:d} is greater than input length '\n",
      "c:\\Users\\Maods\\Documents\\Repos\\EEG-Analysis-\\env_tcc_eeg\\lib\\site-packages\\antropy\\entropy.py:248: RuntimeWarning: invalid value encountered in true_divide\n",
      "  psd_norm = psd / psd.sum(axis=axis, keepdims=True)\n",
      "c:\\Users\\Maods\\Documents\\Repos\\EEG-Analysis-\\env_tcc_eeg\\lib\\site-packages\\antropy\\entropy.py:249: RuntimeWarning: divide by zero encountered in log2\n",
      "  se = -(psd_norm * np.log2(psd_norm)).sum(axis=axis)\n",
      "c:\\Users\\Maods\\Documents\\Repos\\EEG-Analysis-\\env_tcc_eeg\\lib\\site-packages\\antropy\\entropy.py:249: RuntimeWarning: invalid value encountered in multiply\n",
      "  se = -(psd_norm * np.log2(psd_norm)).sum(axis=axis)\n"
     ]
    }
   ],
   "source": [
    "features_a_train = time_domain_features(features_a_train, params['fs'])\n",
    "features_a_test = time_domain_features(features_a_test, params['fs'])"
   ]
  },
  {
   "cell_type": "code",
   "execution_count": 4,
   "metadata": {},
   "outputs": [
    {
     "data": {
      "text/plain": [
       "319"
      ]
     },
     "execution_count": 4,
     "metadata": {},
     "output_type": "execute_result"
    }
   ],
   "source": [
    "import gc\n",
    "\n",
    "del x_train_scaled\n",
    "del x_test_scaled\n",
    "del x_reshaped\n",
    "\n",
    "del x\n",
    "del y\n",
    "\n",
    "del x_train_smote\n",
    "\n",
    "gc.collect()"
   ]
  },
  {
   "cell_type": "code",
   "execution_count": 11,
   "metadata": {},
   "outputs": [
    {
     "data": {
      "text/plain": [
       "9112780800"
      ]
     },
     "execution_count": 11,
     "metadata": {},
     "output_type": "execute_result"
    }
   ],
   "source": [
    "features_a_train.nbytes "
   ]
  },
  {
   "cell_type": "code",
   "execution_count": 14,
   "metadata": {},
   "outputs": [
    {
     "data": {
      "text/plain": [
       "9.1127808"
      ]
     },
     "execution_count": 14,
     "metadata": {},
     "output_type": "execute_result"
    }
   ],
   "source": [
    "features_a_train.nbytes / 1e+9"
   ]
  },
  {
   "cell_type": "code",
   "execution_count": 15,
   "metadata": {},
   "outputs": [
    {
     "data": {
      "text/plain": [
       "4.5563904"
      ]
     },
     "execution_count": 15,
     "metadata": {},
     "output_type": "execute_result"
    }
   ],
   "source": [
    "a = features_a_train.astype(np.float32)\n",
    "a.nbytes / 1e+9"
   ]
  },
  {
   "cell_type": "code",
   "execution_count": 5,
   "metadata": {},
   "outputs": [
    {
     "ename": "KeyboardInterrupt",
     "evalue": "",
     "output_type": "error",
     "traceback": [
      "\u001b[1;31m---------------------------------------------------------------------------\u001b[0m",
      "\u001b[1;31mKeyboardInterrupt\u001b[0m                         Traceback (most recent call last)",
      "\u001b[1;32mc:\\Users\\Maods\\Documents\\Repos\\EEG-Analysis-\\src\\train\\test.ipynb Célula: 6\u001b[0m in \u001b[0;36m<cell line: 9>\u001b[1;34m()\u001b[0m\n\u001b[0;32m      <a href='vscode-notebook-cell:/c%3A/Users/Maods/Documents/Repos/EEG-Analysis-/src/train/test.ipynb#ch0000003?line=0'>1</a>\u001b[0m dataset \u001b[39m=\u001b[39m \u001b[39mdict\u001b[39m(\n\u001b[0;32m      <a href='vscode-notebook-cell:/c%3A/Users/Maods/Documents/Repos/EEG-Analysis-/src/train/test.ipynb#ch0000003?line=1'>2</a>\u001b[0m     X_train\u001b[39m=\u001b[39mfeatures_a_train,\n\u001b[0;32m      <a href='vscode-notebook-cell:/c%3A/Users/Maods/Documents/Repos/EEG-Analysis-/src/train/test.ipynb#ch0000003?line=2'>3</a>\u001b[0m     X_test\u001b[39m=\u001b[39mfeatures_a_test,\n\u001b[0;32m      <a href='vscode-notebook-cell:/c%3A/Users/Maods/Documents/Repos/EEG-Analysis-/src/train/test.ipynb#ch0000003?line=3'>4</a>\u001b[0m     Y_train\u001b[39m=\u001b[39my_train,\n\u001b[0;32m      <a href='vscode-notebook-cell:/c%3A/Users/Maods/Documents/Repos/EEG-Analysis-/src/train/test.ipynb#ch0000003?line=4'>5</a>\u001b[0m     Y_test\u001b[39m=\u001b[39my_test\n\u001b[0;32m      <a href='vscode-notebook-cell:/c%3A/Users/Maods/Documents/Repos/EEG-Analysis-/src/train/test.ipynb#ch0000003?line=5'>6</a>\u001b[0m )\n\u001b[1;32m----> <a href='vscode-notebook-cell:/c%3A/Users/Maods/Documents/Repos/EEG-Analysis-/src/train/test.ipynb#ch0000003?line=8'>9</a>\u001b[0m run_ml_models(dataset, params, metrics_results)\n",
      "\u001b[1;32mc:\\Users\\Maods\\Documents\\Repos\\EEG-Analysis-\\src\\train\\test.ipynb Célula: 6\u001b[0m in \u001b[0;36mrun_ml_models\u001b[1;34m(dataset, params, metrics_results)\u001b[0m\n\u001b[0;32m     <a href='vscode-notebook-cell:/c%3A/Users/Maods/Documents/Repos/EEG-Analysis-/src/train/test.ipynb#ch0000003?line=26'>27</a>\u001b[0m \u001b[39mdef\u001b[39;00m \u001b[39mrun_ml_models\u001b[39m(dataset, params, metrics_results):\n\u001b[0;32m     <a href='vscode-notebook-cell:/c%3A/Users/Maods/Documents/Repos/EEG-Analysis-/src/train/test.ipynb#ch0000003?line=27'>28</a>\u001b[0m \n\u001b[0;32m     <a href='vscode-notebook-cell:/c%3A/Users/Maods/Documents/Repos/EEG-Analysis-/src/train/test.ipynb#ch0000003?line=28'>29</a>\u001b[0m     \u001b[39m# ------------------------- KNN ---------------------------------------------------\u001b[39;00m\n\u001b[1;32m---> <a href='vscode-notebook-cell:/c%3A/Users/Maods/Documents/Repos/EEG-Analysis-/src/train/test.ipynb#ch0000003?line=29'>30</a>\u001b[0m     y_true, y_pred, best_score \u001b[39m=\u001b[39m KNN_model_predict(dataset[\u001b[39m'\u001b[39;49m\u001b[39mX_train\u001b[39;49m\u001b[39m'\u001b[39;49m],\n\u001b[0;32m     <a href='vscode-notebook-cell:/c%3A/Users/Maods/Documents/Repos/EEG-Analysis-/src/train/test.ipynb#ch0000003?line=30'>31</a>\u001b[0m                                                    dataset[\u001b[39m'\u001b[39;49m\u001b[39mX_test\u001b[39;49m\u001b[39m'\u001b[39;49m],\n\u001b[0;32m     <a href='vscode-notebook-cell:/c%3A/Users/Maods/Documents/Repos/EEG-Analysis-/src/train/test.ipynb#ch0000003?line=31'>32</a>\u001b[0m                                                    dataset[\u001b[39m'\u001b[39;49m\u001b[39mY_train\u001b[39;49m\u001b[39m'\u001b[39;49m],\n\u001b[0;32m     <a href='vscode-notebook-cell:/c%3A/Users/Maods/Documents/Repos/EEG-Analysis-/src/train/test.ipynb#ch0000003?line=32'>33</a>\u001b[0m                                                    dataset[\u001b[39m'\u001b[39;49m\u001b[39mY_test\u001b[39;49m\u001b[39m'\u001b[39;49m],\n\u001b[0;32m     <a href='vscode-notebook-cell:/c%3A/Users/Maods/Documents/Repos/EEG-Analysis-/src/train/test.ipynb#ch0000003?line=33'>34</a>\u001b[0m                                                    scoring\u001b[39m=\u001b[39;49m\u001b[39mNone\u001b[39;49;00m)\n\u001b[0;32m     <a href='vscode-notebook-cell:/c%3A/Users/Maods/Documents/Repos/EEG-Analysis-/src/train/test.ipynb#ch0000003?line=34'>35</a>\u001b[0m     metrics_results\u001b[39m.\u001b[39mappend(get_metrics(\n\u001b[0;32m     <a href='vscode-notebook-cell:/c%3A/Users/Maods/Documents/Repos/EEG-Analysis-/src/train/test.ipynb#ch0000003?line=35'>36</a>\u001b[0m         y_true, y_pred, best_score, \u001b[39m'\u001b[39m\u001b[39mKNN\u001b[39m\u001b[39m'\u001b[39m, params))\n\u001b[0;32m     <a href='vscode-notebook-cell:/c%3A/Users/Maods/Documents/Repos/EEG-Analysis-/src/train/test.ipynb#ch0000003?line=37'>38</a>\u001b[0m     \u001b[39m# ------------------------- SVM ---------------------------------------------------\u001b[39;00m\n",
      "File \u001b[1;32mc:\\Users\\Maods\\Documents\\Repos\\EEG-Analysis-\\src\\train\\..\\models\\mlmodels.py:23\u001b[0m, in \u001b[0;36mKNN_model_predict\u001b[1;34m(X_train, X_test, y_train, y_test, scoring)\u001b[0m\n\u001b[0;32m     21\u001b[0m param_grid \u001b[39m=\u001b[39m {\u001b[39m'\u001b[39m\u001b[39mn_neighbors\u001b[39m\u001b[39m'\u001b[39m: [\u001b[39m9\u001b[39m]}\n\u001b[0;32m     22\u001b[0m knn_model \u001b[39m=\u001b[39m GridSearchCV(KNN, param_grid, cv\u001b[39m=\u001b[39m\u001b[39m5\u001b[39m,scoring\u001b[39m=\u001b[39mscoring, n_jobs\u001b[39m=\u001b[39mN_JOBS)\n\u001b[1;32m---> 23\u001b[0m knn_model\u001b[39m.\u001b[39;49mfit(X_train, y_train)\n\u001b[0;32m     24\u001b[0m y_pred \u001b[39m=\u001b[39m knn_model\u001b[39m.\u001b[39mpredict(X_test)\n\u001b[0;32m     25\u001b[0m best_score \u001b[39m=\u001b[39m \u001b[39mround\u001b[39m(knn_model\u001b[39m.\u001b[39mbest_score_,\u001b[39m3\u001b[39m)\n",
      "File \u001b[1;32mc:\\Users\\Maods\\Documents\\Repos\\EEG-Analysis-\\env_tcc_eeg\\lib\\site-packages\\sklearn\\model_selection\\_search.py:891\u001b[0m, in \u001b[0;36mBaseSearchCV.fit\u001b[1;34m(self, X, y, groups, **fit_params)\u001b[0m\n\u001b[0;32m    885\u001b[0m     results \u001b[39m=\u001b[39m \u001b[39mself\u001b[39m\u001b[39m.\u001b[39m_format_results(\n\u001b[0;32m    886\u001b[0m         all_candidate_params, n_splits, all_out, all_more_results\n\u001b[0;32m    887\u001b[0m     )\n\u001b[0;32m    889\u001b[0m     \u001b[39mreturn\u001b[39;00m results\n\u001b[1;32m--> 891\u001b[0m \u001b[39mself\u001b[39;49m\u001b[39m.\u001b[39;49m_run_search(evaluate_candidates)\n\u001b[0;32m    893\u001b[0m \u001b[39m# multimetric is determined here because in the case of a callable\u001b[39;00m\n\u001b[0;32m    894\u001b[0m \u001b[39m# self.scoring the return type is only known after calling\u001b[39;00m\n\u001b[0;32m    895\u001b[0m first_test_score \u001b[39m=\u001b[39m all_out[\u001b[39m0\u001b[39m][\u001b[39m\"\u001b[39m\u001b[39mtest_scores\u001b[39m\u001b[39m\"\u001b[39m]\n",
      "File \u001b[1;32mc:\\Users\\Maods\\Documents\\Repos\\EEG-Analysis-\\env_tcc_eeg\\lib\\site-packages\\sklearn\\model_selection\\_search.py:1392\u001b[0m, in \u001b[0;36mGridSearchCV._run_search\u001b[1;34m(self, evaluate_candidates)\u001b[0m\n\u001b[0;32m   1390\u001b[0m \u001b[39mdef\u001b[39;00m \u001b[39m_run_search\u001b[39m(\u001b[39mself\u001b[39m, evaluate_candidates):\n\u001b[0;32m   1391\u001b[0m     \u001b[39m\"\"\"Search all candidates in param_grid\"\"\"\u001b[39;00m\n\u001b[1;32m-> 1392\u001b[0m     evaluate_candidates(ParameterGrid(\u001b[39mself\u001b[39;49m\u001b[39m.\u001b[39;49mparam_grid))\n",
      "File \u001b[1;32mc:\\Users\\Maods\\Documents\\Repos\\EEG-Analysis-\\env_tcc_eeg\\lib\\site-packages\\sklearn\\model_selection\\_search.py:838\u001b[0m, in \u001b[0;36mBaseSearchCV.fit.<locals>.evaluate_candidates\u001b[1;34m(candidate_params, cv, more_results)\u001b[0m\n\u001b[0;32m    830\u001b[0m \u001b[39mif\u001b[39;00m \u001b[39mself\u001b[39m\u001b[39m.\u001b[39mverbose \u001b[39m>\u001b[39m \u001b[39m0\u001b[39m:\n\u001b[0;32m    831\u001b[0m     \u001b[39mprint\u001b[39m(\n\u001b[0;32m    832\u001b[0m         \u001b[39m\"\u001b[39m\u001b[39mFitting \u001b[39m\u001b[39m{0}\u001b[39;00m\u001b[39m folds for each of \u001b[39m\u001b[39m{1}\u001b[39;00m\u001b[39m candidates,\u001b[39m\u001b[39m\"\u001b[39m\n\u001b[0;32m    833\u001b[0m         \u001b[39m\"\u001b[39m\u001b[39m totalling \u001b[39m\u001b[39m{2}\u001b[39;00m\u001b[39m fits\u001b[39m\u001b[39m\"\u001b[39m\u001b[39m.\u001b[39mformat(\n\u001b[0;32m    834\u001b[0m             n_splits, n_candidates, n_candidates \u001b[39m*\u001b[39m n_splits\n\u001b[0;32m    835\u001b[0m         )\n\u001b[0;32m    836\u001b[0m     )\n\u001b[1;32m--> 838\u001b[0m out \u001b[39m=\u001b[39m parallel(\n\u001b[0;32m    839\u001b[0m     delayed(_fit_and_score)(\n\u001b[0;32m    840\u001b[0m         clone(base_estimator),\n\u001b[0;32m    841\u001b[0m         X,\n\u001b[0;32m    842\u001b[0m         y,\n\u001b[0;32m    843\u001b[0m         train\u001b[39m=\u001b[39;49mtrain,\n\u001b[0;32m    844\u001b[0m         test\u001b[39m=\u001b[39;49mtest,\n\u001b[0;32m    845\u001b[0m         parameters\u001b[39m=\u001b[39;49mparameters,\n\u001b[0;32m    846\u001b[0m         split_progress\u001b[39m=\u001b[39;49m(split_idx, n_splits),\n\u001b[0;32m    847\u001b[0m         candidate_progress\u001b[39m=\u001b[39;49m(cand_idx, n_candidates),\n\u001b[0;32m    848\u001b[0m         \u001b[39m*\u001b[39;49m\u001b[39m*\u001b[39;49mfit_and_score_kwargs,\n\u001b[0;32m    849\u001b[0m     )\n\u001b[0;32m    850\u001b[0m     \u001b[39mfor\u001b[39;49;00m (cand_idx, parameters), (split_idx, (train, test)) \u001b[39min\u001b[39;49;00m product(\n\u001b[0;32m    851\u001b[0m         \u001b[39menumerate\u001b[39;49m(candidate_params), \u001b[39menumerate\u001b[39;49m(cv\u001b[39m.\u001b[39;49msplit(X, y, groups))\n\u001b[0;32m    852\u001b[0m     )\n\u001b[0;32m    853\u001b[0m )\n\u001b[0;32m    855\u001b[0m \u001b[39mif\u001b[39;00m \u001b[39mlen\u001b[39m(out) \u001b[39m<\u001b[39m \u001b[39m1\u001b[39m:\n\u001b[0;32m    856\u001b[0m     \u001b[39mraise\u001b[39;00m \u001b[39mValueError\u001b[39;00m(\n\u001b[0;32m    857\u001b[0m         \u001b[39m\"\u001b[39m\u001b[39mNo fits were performed. \u001b[39m\u001b[39m\"\u001b[39m\n\u001b[0;32m    858\u001b[0m         \u001b[39m\"\u001b[39m\u001b[39mWas the CV iterator empty? \u001b[39m\u001b[39m\"\u001b[39m\n\u001b[0;32m    859\u001b[0m         \u001b[39m\"\u001b[39m\u001b[39mWere there no candidates?\u001b[39m\u001b[39m\"\u001b[39m\n\u001b[0;32m    860\u001b[0m     )\n",
      "File \u001b[1;32mc:\\Users\\Maods\\Documents\\Repos\\EEG-Analysis-\\env_tcc_eeg\\lib\\site-packages\\joblib\\parallel.py:1056\u001b[0m, in \u001b[0;36mParallel.__call__\u001b[1;34m(self, iterable)\u001b[0m\n\u001b[0;32m   1053\u001b[0m     \u001b[39mself\u001b[39m\u001b[39m.\u001b[39m_iterating \u001b[39m=\u001b[39m \u001b[39mFalse\u001b[39;00m\n\u001b[0;32m   1055\u001b[0m \u001b[39mwith\u001b[39;00m \u001b[39mself\u001b[39m\u001b[39m.\u001b[39m_backend\u001b[39m.\u001b[39mretrieval_context():\n\u001b[1;32m-> 1056\u001b[0m     \u001b[39mself\u001b[39;49m\u001b[39m.\u001b[39;49mretrieve()\n\u001b[0;32m   1057\u001b[0m \u001b[39m# Make sure that we get a last message telling us we are done\u001b[39;00m\n\u001b[0;32m   1058\u001b[0m elapsed_time \u001b[39m=\u001b[39m time\u001b[39m.\u001b[39mtime() \u001b[39m-\u001b[39m \u001b[39mself\u001b[39m\u001b[39m.\u001b[39m_start_time\n",
      "File \u001b[1;32mc:\\Users\\Maods\\Documents\\Repos\\EEG-Analysis-\\env_tcc_eeg\\lib\\site-packages\\joblib\\parallel.py:935\u001b[0m, in \u001b[0;36mParallel.retrieve\u001b[1;34m(self)\u001b[0m\n\u001b[0;32m    933\u001b[0m \u001b[39mtry\u001b[39;00m:\n\u001b[0;32m    934\u001b[0m     \u001b[39mif\u001b[39;00m \u001b[39mgetattr\u001b[39m(\u001b[39mself\u001b[39m\u001b[39m.\u001b[39m_backend, \u001b[39m'\u001b[39m\u001b[39msupports_timeout\u001b[39m\u001b[39m'\u001b[39m, \u001b[39mFalse\u001b[39;00m):\n\u001b[1;32m--> 935\u001b[0m         \u001b[39mself\u001b[39m\u001b[39m.\u001b[39m_output\u001b[39m.\u001b[39mextend(job\u001b[39m.\u001b[39;49mget(timeout\u001b[39m=\u001b[39;49m\u001b[39mself\u001b[39;49m\u001b[39m.\u001b[39;49mtimeout))\n\u001b[0;32m    936\u001b[0m     \u001b[39melse\u001b[39;00m:\n\u001b[0;32m    937\u001b[0m         \u001b[39mself\u001b[39m\u001b[39m.\u001b[39m_output\u001b[39m.\u001b[39mextend(job\u001b[39m.\u001b[39mget())\n",
      "File \u001b[1;32mc:\\Users\\Maods\\Documents\\Repos\\EEG-Analysis-\\env_tcc_eeg\\lib\\site-packages\\joblib\\_parallel_backends.py:542\u001b[0m, in \u001b[0;36mLokyBackend.wrap_future_result\u001b[1;34m(future, timeout)\u001b[0m\n\u001b[0;32m    539\u001b[0m \u001b[39m\"\"\"Wrapper for Future.result to implement the same behaviour as\u001b[39;00m\n\u001b[0;32m    540\u001b[0m \u001b[39mAsyncResults.get from multiprocessing.\"\"\"\u001b[39;00m\n\u001b[0;32m    541\u001b[0m \u001b[39mtry\u001b[39;00m:\n\u001b[1;32m--> 542\u001b[0m     \u001b[39mreturn\u001b[39;00m future\u001b[39m.\u001b[39;49mresult(timeout\u001b[39m=\u001b[39;49mtimeout)\n\u001b[0;32m    543\u001b[0m \u001b[39mexcept\u001b[39;00m CfTimeoutError \u001b[39mas\u001b[39;00m e:\n\u001b[0;32m    544\u001b[0m     \u001b[39mraise\u001b[39;00m \u001b[39mTimeoutError\u001b[39;00m \u001b[39mfrom\u001b[39;00m \u001b[39me\u001b[39;00m\n",
      "File \u001b[1;32m~\\.pyenv\\pyenv-win\\versions\\3.9.12\\lib\\concurrent\\futures\\_base.py:441\u001b[0m, in \u001b[0;36mFuture.result\u001b[1;34m(self, timeout)\u001b[0m\n\u001b[0;32m    438\u001b[0m \u001b[39melif\u001b[39;00m \u001b[39mself\u001b[39m\u001b[39m.\u001b[39m_state \u001b[39m==\u001b[39m FINISHED:\n\u001b[0;32m    439\u001b[0m     \u001b[39mreturn\u001b[39;00m \u001b[39mself\u001b[39m\u001b[39m.\u001b[39m__get_result()\n\u001b[1;32m--> 441\u001b[0m \u001b[39mself\u001b[39;49m\u001b[39m.\u001b[39;49m_condition\u001b[39m.\u001b[39;49mwait(timeout)\n\u001b[0;32m    443\u001b[0m \u001b[39mif\u001b[39;00m \u001b[39mself\u001b[39m\u001b[39m.\u001b[39m_state \u001b[39min\u001b[39;00m [CANCELLED, CANCELLED_AND_NOTIFIED]:\n\u001b[0;32m    444\u001b[0m     \u001b[39mraise\u001b[39;00m CancelledError()\n",
      "File \u001b[1;32m~\\.pyenv\\pyenv-win\\versions\\3.9.12\\lib\\threading.py:312\u001b[0m, in \u001b[0;36mCondition.wait\u001b[1;34m(self, timeout)\u001b[0m\n\u001b[0;32m    310\u001b[0m \u001b[39mtry\u001b[39;00m:    \u001b[39m# restore state no matter what (e.g., KeyboardInterrupt)\u001b[39;00m\n\u001b[0;32m    311\u001b[0m     \u001b[39mif\u001b[39;00m timeout \u001b[39mis\u001b[39;00m \u001b[39mNone\u001b[39;00m:\n\u001b[1;32m--> 312\u001b[0m         waiter\u001b[39m.\u001b[39;49macquire()\n\u001b[0;32m    313\u001b[0m         gotit \u001b[39m=\u001b[39m \u001b[39mTrue\u001b[39;00m\n\u001b[0;32m    314\u001b[0m     \u001b[39melse\u001b[39;00m:\n",
      "\u001b[1;31mKeyboardInterrupt\u001b[0m: "
     ]
    }
   ],
   "source": [
    "dataset = dict(\n",
    "    X_train=features_a_train,\n",
    "    X_test=features_a_test,\n",
    "    Y_train=y_train,\n",
    "    Y_test=y_test\n",
    ")\n",
    "\n",
    "\n",
    "run_ml_models(dataset, params, metrics_results)\n",
    "\n"
   ]
  }
 ],
 "metadata": {
  "kernelspec": {
   "display_name": "Python 3.9.12 ('env_tcc_eeg': venv)",
   "language": "python",
   "name": "python3"
  },
  "language_info": {
   "codemirror_mode": {
    "name": "ipython",
    "version": 3
   },
   "file_extension": ".py",
   "mimetype": "text/x-python",
   "name": "python",
   "nbconvert_exporter": "python",
   "pygments_lexer": "ipython3",
   "version": "3.9.12"
  },
  "orig_nbformat": 4,
  "vscode": {
   "interpreter": {
    "hash": "2cbf7e0147303fc3f0f8ad236e712b35630663a8f54fe7c15006cb08065671df"
   }
  }
 },
 "nbformat": 4,
 "nbformat_minor": 2
}
