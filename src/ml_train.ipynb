{
 "cells": [
  {
   "cell_type": "code",
   "execution_count": null,
   "metadata": {},
   "outputs": [],
   "source": [
    "from pyriemann.estimation import XdawnCovariances\n",
    "from pyriemann.tangentspace import TangentSpace\n",
    "from pyriemann.utils.viz import plot_confusion_matrix\n",
    "from sklearn.pipeline import make_pipeline\n",
    "from sklearn.linear_model import LogisticRegression\n",
    "from matplotlib import pyplot as plt\n",
    "\n",
    "n_components = 2  # pick some components\n",
    "\n",
    "# set up sklearn pipeline\n",
    "clf = make_pipeline(XdawnCovariances(n_components),\n",
    "                    TangentSpace(metric='riemann'),\n",
    "                    LogisticRegression())\n",
    "\n",
    "preds_rg     = np.zeros(len(Y_test))\n",
    "\n",
    "# reshape back to (trials, channels, samples)\n",
    "X_train      = X_train.reshape(X_train.shape[0], chans, samples)\n",
    "X_test       = X_test.reshape(X_test.shape[0], chans, samples)\n",
    "\n",
    "# train a classifier with xDAWN spatial filtering + Riemannian Geometry (RG)\n",
    "# labels need to be back in single-column format\n",
    "clf.fit(X_train, Y_train.argmax(axis = -1))\n",
    "preds_rg     = clf.predict(X_test)\n",
    "\n",
    "# Printing the results\n",
    "acc2         = np.mean(preds_rg == Y_test.argmax(axis = -1))\n",
    "print(\"Classification accuracy: %f \" % (acc2))\n",
    "\n",
    "# plot the confusion matrices for both classifiers\n",
    "names        = ['audio left', 'audio right']\n",
    "plt.figure(0)\n",
    "plot_confusion_matrix(preds, Y_test.argmax(axis = -1), names, title = 'EEGNet-8,2')\n",
    "\n",
    "plt.figure(1)\n",
    "plot_confusion_matrix(preds_rg, Y_test.argmax(axis = -1), names, title = 'xDAWN + RG')\n",
    "ConfusionMatrixDisplay.from_predictions(y_true, y_pred,ax=axs[1],values_format='d')"
   ]
  }
 ],
 "metadata": {
  "language_info": {
   "name": "python"
  },
  "orig_nbformat": 4
 },
 "nbformat": 4,
 "nbformat_minor": 2
}
